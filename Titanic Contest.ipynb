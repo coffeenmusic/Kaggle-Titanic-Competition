{
 "cells": [
  {
   "cell_type": "markdown",
   "metadata": {},
   "source": [
    "### Things to try\n",
    "- Using Cabin and Ticket as features\n",
    "- Separate First and Last Name as different features\n",
    "- Separate Cabin by Letter and Number"
   ]
  },
  {
   "cell_type": "code",
   "execution_count": 203,
   "metadata": {
    "collapsed": true
   },
   "outputs": [],
   "source": [
    "import pandas as pd"
   ]
  },
  {
   "cell_type": "markdown",
   "metadata": {},
   "source": [
    "# Preprocessing"
   ]
  },
  {
   "cell_type": "markdown",
   "metadata": {},
   "source": [
    "### Import Data"
   ]
  },
  {
   "cell_type": "code",
   "execution_count": 323,
   "metadata": {
    "collapsed": true
   },
   "outputs": [],
   "source": [
    "titanic_train = pd.read_csv('train.csv')\n",
    "titanic_test = pd.read_csv('test.csv')\n",
    "\n",
    "full_set = titanic_train.append(titanic_test)\n",
    "\n",
    "# # Create Last Name Column\n",
    "# def get_last_name(full_name):\n",
    "#     return full_name.split(', ')[0]\n",
    "\n",
    "# full_set['Last_Name'] = full_set['Name'].apply(get_last_name)"
   ]
  },
  {
   "cell_type": "code",
   "execution_count": 324,
   "metadata": {},
   "outputs": [],
   "source": [
    "# Create a column for each individual cabin\n",
    "# Additionally, create a separate column for the room number and the cabin number\n",
    "def split_cabin(cabin):\n",
    "    return_vals = ['N/A'] * 8\n",
    "    if type(cabin) == str:\n",
    "        cabins = cabin.split(' ')\n",
    "        for i, c in enumerate(cabins):\n",
    "            idx = i*2\n",
    "            if c[0].isalpha(): # First char is a letter\n",
    "                return_vals[idx] = c[0]\n",
    "                return_vals[idx+1] = c[1:]\n",
    "            else:\n",
    "                return_vals[idx] = 'N/A'\n",
    "                return_vals[idx+1] = 'N/A'\n",
    "    else:\n",
    "        pass\n",
    "    if len(return_vals) != 8:\n",
    "        print(return_vals)\n",
    "    return tuple(return_vals)\n",
    "\n",
    "full_set['C1_Ch'], full_set['C1_N'], full_set['C2_Ch'], full_set['C2_N'], full_set['C3_Ch'], full_set['C3_N'], full_set['C4_Ch'], full_set['C4_N'] = zip(*full_set['Cabin'].apply(split_cabin))"
   ]
  },
  {
   "cell_type": "code",
   "execution_count": 325,
   "metadata": {},
   "outputs": [],
   "source": [
    "y = titanic_train.Survived\n",
    "#X = full_set.drop(['PassengerId', 'Survived', 'Name', 'Ticket', 'Cabin'], axis=1)\n",
    "X = full_set.drop(['PassengerId', 'Survived', 'Name', 'Ticket', 'Cabin'], axis=1)"
   ]
  },
  {
   "cell_type": "code",
   "execution_count": 326,
   "metadata": {
    "collapsed": true
   },
   "outputs": [],
   "source": [
    "from sklearn.preprocessing import Imputer\n",
    "\n",
    "def preprocess_data(X):\n",
    "    # Add dataframe columns signifying where missing data is located......    \n",
    "    cols_with_missing = (col for col in X.columns if X[col].isnull().any()) # Get columns with missing data\n",
    "\n",
    "    for col in cols_with_missing:\n",
    "        X[col + '_missing'] = X[col].isnull()\n",
    "        \n",
    "    # One hot encode data..................................................\n",
    "    ohe_X = pd.get_dummies(X)\n",
    "    \n",
    "    # Fit missing data using imputation....................................\n",
    "    imputer = Imputer()\n",
    "    imputed_X = pd.DataFrame(imputer.fit_transform(ohe_X))\n",
    "    imputed_X.columns = ohe_X.columns\n",
    "    \n",
    "    return imputed_X"
   ]
  },
  {
   "cell_type": "code",
   "execution_count": 327,
   "metadata": {
    "collapsed": true
   },
   "outputs": [],
   "source": [
    "X = preprocess_data(X)\n",
    "titanic_X = X[:len(titanic_train)]\n",
    "titanic_test_X = X[len(titanic_train):]"
   ]
  },
  {
   "cell_type": "markdown",
   "metadata": {},
   "source": [
    "### Train Test Split"
   ]
  },
  {
   "cell_type": "code",
   "execution_count": 328,
   "metadata": {
    "collapsed": true
   },
   "outputs": [],
   "source": [
    "from sklearn.model_selection import train_test_split\n",
    "\n",
    "train_X, val_X, train_y, val_y = train_test_split(titanic_X.values, y.values, test_size=0.2)"
   ]
  },
  {
   "cell_type": "markdown",
   "metadata": {},
   "source": [
    "# Train Data"
   ]
  },
  {
   "cell_type": "markdown",
   "metadata": {},
   "source": [
    "### Find optimal model cycle count n_estimators"
   ]
  },
  {
   "cell_type": "code",
   "execution_count": 329,
   "metadata": {},
   "outputs": [],
   "source": [
    "import matplotlib\n",
    "import matplotlib.pyplot as plt\n",
    "from xgboost import XGBRegressor\n",
    "from sklearn.metrics import mean_absolute_error\n",
    "\n",
    "def get_train_val_data(plot_range):\n",
    "    val_mean_error = []\n",
    "    train_mean_error = []\n",
    "    for n in plot_range:  \n",
    "        model = XGBRegressor(n_estimators=n, learning_rate=.01)\n",
    "        model.fit(train_X, train_y,)\n",
    "\n",
    "        predictions = model.predict(val_X)\n",
    "        val_mean_error += [mean_absolute_error(predictions, val_y)]\n",
    "\n",
    "        predictions = model.predict(train_X)\n",
    "        train_mean_error += [mean_absolute_error(predictions, train_y)]\n",
    "    return train_mean_error, val_mean_error"
   ]
  },
  {
   "cell_type": "code",
   "execution_count": 330,
   "metadata": {},
   "outputs": [
    {
     "data": {
      "image/png": "[encoded data removed]",
      "text/plain": [
       "<matplotlib.figure.Figure at 0x17e0b1134e0>"
      ]
     },
     "metadata": {},
     "output_type": "display_data"
    }
   ],
   "source": [
    "# Broad plot\n",
    "test_range = range(100, 9100, 1000)\n",
    "train_mean_error, val_mean_error = get_train_val_data(test_range)\n",
    "plt.plot(test_range, val_mean_error, test_range, train_mean_error)\n",
    "plt.show()"
   ]
  },
  {
   "cell_type": "code",
   "execution_count": 332,
   "metadata": {},
   "outputs": [
    {
     "data": {
      "image/png": "[encoded data removed]",
      "text/plain": [
       "<matplotlib.figure.Figure at 0x17e094d8940>"
      ]
     },
     "metadata": {},
     "output_type": "display_data"
    }
   ],
   "source": [
    "# Narrow plot\n",
    "test_range = range(2600, 3600, 200)\n",
    "train_mean_error, val_mean_error = get_train_val_data(test_range)\n",
    "plt.plot(test_range, val_mean_error, test_range, train_mean_error)\n",
    "plt.show()"
   ]
  },
  {
   "cell_type": "markdown",
   "metadata": {},
   "source": [
    "### Get best n"
   ]
  },
  {
   "cell_type": "code",
   "execution_count": 333,
   "metadata": {},
   "outputs": [
    {
     "name": "stdout",
     "output_type": "stream",
     "text": [
      "Index: 1, Value: 0.2401, n_estimator: 2800\n"
     ]
    }
   ],
   "source": [
    "idx_of_min_err = val_mean_error.index(min(val_mean_error))\n",
    "best_err = val_mean_error[idx_of_min_err]\n",
    "best_n = list(test_range)[idx_of_min_err]\n",
    "print('Index: {0}, Value: {1:0.4f}, n_estimator: {2}'.format(idx_of_min_err, best_err, best_n))"
   ]
  },
  {
   "cell_type": "markdown",
   "metadata": {},
   "source": [
    "# Train Full Data Set"
   ]
  },
  {
   "cell_type": "code",
   "execution_count": 16,
   "metadata": {},
   "outputs": [
    {
     "data": {
      "text/plain": [
       "XGBRegressor(base_score=0.5, booster='gbtree', colsample_bylevel=1,\n",
       "       colsample_bytree=1, gamma=0, learning_rate=0.01, max_delta_step=0,\n",
       "       max_depth=3, min_child_weight=1, missing=None, n_estimators=5000,\n",
       "       n_jobs=1, nthread=None, objective='reg:linear', random_state=0,\n",
       "       reg_alpha=0, reg_lambda=1, scale_pos_weight=1, seed=None,\n",
       "       silent=True, subsample=1)"
      ]
     },
     "execution_count": 16,
     "metadata": {},
     "output_type": "execute_result"
    }
   ],
   "source": [
    "# Train on full data set with optimal model cycle count\n",
    "model = XGBRegressor(n_estimators=best_n, learning_rate=.01)\n",
    "model.fit(titanic_X.values, y.values)"
   ]
  },
  {
   "cell_type": "markdown",
   "metadata": {
    "collapsed": true
   },
   "source": [
    "# Predict on Test Set"
   ]
  },
  {
   "cell_type": "code",
   "execution_count": 34,
   "metadata": {
    "collapsed": true
   },
   "outputs": [],
   "source": [
    "final_predictions = model.predict(titanic_test_X.values)\n",
    "\n",
    "# Convert to boolean values\n",
    "final_bool = [1 if p > 0.5 else 0 for p in final_predictions]"
   ]
  },
  {
   "cell_type": "code",
   "execution_count": 35,
   "metadata": {
    "collapsed": true
   },
   "outputs": [],
   "source": [
    "# Export predictions for submission\n",
    "output = pd.DataFrame({'PassengerId': titanic_test.PassengerId, 'Survived': final_bool})\n",
    "output.to_csv('submission.csv', index=False)"
   ]
  },
  {
   "cell_type": "markdown",
   "metadata": {},
   "source": [
    "# Partial Dependency Plots\n",
    "How each feature affects the model"
   ]
  },
  {
   "cell_type": "code",
   "execution_count": 136,
   "metadata": {
    "collapsed": true
   },
   "outputs": [],
   "source": [
    "test_str = 'my_string'"
   ]
  },
  {
   "cell_type": "code",
   "execution_count": 137,
   "metadata": {},
   "outputs": [
    {
     "data": {
      "text/plain": [
       "True"
      ]
     },
     "execution_count": 137,
     "metadata": {},
     "output_type": "execute_result"
    }
   ],
   "source": [
    "'string' in test_str"
   ]
  },
  {
   "cell_type": "code",
   "execution_count": 28,
   "metadata": {},
   "outputs": [
    {
     "data": {
      "text/plain": [
       "GradientBoostingRegressor(alpha=0.9, criterion='friedman_mse', init=None,\n",
       "             learning_rate=0.1, loss='ls', max_depth=3, max_features=None,\n",
       "             max_leaf_nodes=None, min_impurity_decrease=0.0,\n",
       "             min_impurity_split=None, min_samples_leaf=1,\n",
       "             min_samples_split=2, min_weight_fraction_leaf=0.0,\n",
       "             n_estimators=100, presort='auto', random_state=None,\n",
       "             subsample=1.0, verbose=0, warm_start=False)"
      ]
     },
     "execution_count": 28,
     "metadata": {},
     "output_type": "execute_result"
    }
   ],
   "source": [
    "from sklearn.ensemble import GradientBoostingRegressor\n",
    "from sklearn.ensemble.partial_dependence import partial_dependence, plot_partial_dependence\n",
    "import matplotlib\n",
    "%matplotlib inline\n",
    "\n",
    "partial_dependence_model = GradientBoostingRegressor()\n",
    "partial_dependence_model.fit(titanic_X.values, y.values)"
   ]
  },
  {
   "cell_type": "markdown",
   "metadata": {},
   "source": [
    "### Age vs Survival Likelihood\n",
    "More likely to survive if younger"
   ]
  },
  {
   "cell_type": "code",
   "execution_count": 32,
   "metadata": {},
   "outputs": [
    {
     "data": {
      "image/png": "[encoded data removed]",
      "text/plain": [
       "<matplotlib.figure.Figure at 0x17e07d73ba8>"
      ]
     },
     "metadata": {},
     "output_type": "display_data"
    }
   ],
   "source": [
    "plotter = plot_partial_dependence(partial_dependence_model, \n",
    "                                  features=[0], # Column numbers of plots to show\n",
    "                                  X=titanic_X.values, \n",
    "                                  feature_names=list(titanic_X.columns),\n",
    "                                 grid_resolution=10)"
   ]
  },
  {
   "cell_type": "markdown",
   "metadata": {},
   "source": [
    "### Fare Price vs Surival Likelihood\n",
    "More likely to survive if payed more for fare"
   ]
  },
  {
   "cell_type": "code",
   "execution_count": 33,
   "metadata": {},
   "outputs": [
    {
     "data": {
      "image/png": "[encoded data removed]",
      "text/plain": [
       "<matplotlib.figure.Figure at 0x17e08e45be0>"
      ]
     },
     "metadata": {},
     "output_type": "display_data"
    }
   ],
   "source": [
    "plotter = plot_partial_dependence(partial_dependence_model, \n",
    "                                  features=[1], # Column numbers of plots to show\n",
    "                                  X=titanic_X.values, \n",
    "                                  feature_names=list(titanic_X.columns),\n",
    "                                 grid_resolution=10)"
   ]
  },
  {
   "cell_type": "markdown",
   "metadata": {},
   "source": [
    "### Parent Child Count vs Survival Likelihood\n",
    "More likely to survive with fewer parent/child count (probably fewer children)"
   ]
  },
  {
   "cell_type": "code",
   "execution_count": 34,
   "metadata": {},
   "outputs": [
    {
     "data": {
      "image/png": "[encoded data removed]",
      "text/plain": [
       "<matplotlib.figure.Figure at 0x17e08ee9ac8>"
      ]
     },
     "metadata": {},
     "output_type": "display_data"
    }
   ],
   "source": [
    "plotter = plot_partial_dependence(partial_dependence_model, \n",
    "                                  features=[2], # Column numbers of plots to show\n",
    "                                  X=titanic_X.values, \n",
    "                                  feature_names=list(titanic_X.columns),\n",
    "                                 grid_resolution=10)"
   ]
  },
  {
   "cell_type": "markdown",
   "metadata": {},
   "source": [
    "### Travel Class vs Survival Likelihood\n",
    "More likely to survive if 1st Class"
   ]
  },
  {
   "cell_type": "code",
   "execution_count": 132,
   "metadata": {},
   "outputs": [
    {
     "data": {
      "image/png": "[encoded data removed]",
      "text/plain": [
       "<matplotlib.figure.Figure at 0x17e09a86b38>"
      ]
     },
     "metadata": {},
     "output_type": "display_data"
    }
   ],
   "source": [
    "plotter = plot_partial_dependence(partial_dependence_model, \n",
    "                                  features=[3], # Column numbers of plots to show\n",
    "                                  X=titanic_X.values, \n",
    "                                  feature_names=list(titanic_X.columns),\n",
    "                                 grid_resolution=10)"
   ]
  },
  {
   "cell_type": "markdown",
   "metadata": {},
   "source": [
    "### Sibling Count vs Survival Likelihood\n",
    "Less siblings increased survival likelihood"
   ]
  },
  {
   "cell_type": "code",
   "execution_count": 133,
   "metadata": {},
   "outputs": [
    {
     "data": {
      "image/png": "[encoded data removed]",
      "text/plain": [
       "<matplotlib.figure.Figure at 0x17e09b44c50>"
      ]
     },
     "metadata": {},
     "output_type": "display_data"
    }
   ],
   "source": [
    "plotter = plot_partial_dependence(partial_dependence_model, \n",
    "                                  features=[4], # Column numbers of plots to show\n",
    "                                  X=titanic_X.values, \n",
    "                                  feature_names=list(titanic_X.columns),\n",
    "                                 grid_resolution=10)"
   ]
  },
  {
   "cell_type": "markdown",
   "metadata": {},
   "source": [
    "### Cabin vs Survival Likelihood"
   ]
  },
  {
   "cell_type": "code",
   "execution_count": 176,
   "metadata": {},
   "outputs": [],
   "source": [
    "from collections import Counter\n",
    "import math\n",
    "cnt = Counter()"
   ]
  },
  {
   "cell_type": "code",
   "execution_count": 177,
   "metadata": {},
   "outputs": [],
   "source": [
    "cabin_survival = {}\n",
    "for c, s in zip(titanic_train['Cabin'], titanic_train['Survived']):\n",
    "    # If NaN, skip\n",
    "    if type(c) == float:\n",
    "        continue\n",
    "    cnt.update({c: s})"
   ]
  },
  {
   "cell_type": "code",
   "execution_count": 191,
   "metadata": {},
   "outputs": [
    {
     "data": {
      "text/plain": [
       "[('B96 B98', 4),\n",
       " ('F33', 3),\n",
       " ('E101', 3),\n",
       " ('D17', 2),\n",
       " ('B28', 2),\n",
       " ('F2', 2),\n",
       " ('E24', 2),\n",
       " ('E25', 2),\n",
       " ('D20', 2),\n",
       " ('C52', 2),\n",
       " ('C125', 2),\n",
       " ('B35', 2),\n",
       " ('C23 C25 C27', 2),\n",
       " ('B18', 2),\n",
       " ('B77', 2),\n",
       " ('F4', 2),\n",
       " ('B20', 2),\n",
       " ('G6', 2),\n",
       " ('B49', 2),\n",
       " ('D33', 2),\n",
       " ('D36', 2),\n",
       " ('B5', 2),\n",
       " ('E121', 2),\n",
       " ('E33', 2),\n",
       " ('E8', 2),\n",
       " ('C126', 2),\n",
       " ('D', 2),\n",
       " ('C92', 2),\n",
       " ('B57 B59 B63 B66', 2),\n",
       " ('D35', 2),\n",
       " ('C93', 2),\n",
       " ('C68', 1),\n",
       " ('D11', 1),\n",
       " ('D10 D12', 1),\n",
       " ('A34', 1),\n",
       " ('C148', 1),\n",
       " ('E40', 1),\n",
       " ('B41', 1),\n",
       " ('A26', 1),\n",
       " ('A20', 1),\n",
       " ('C99', 1),\n",
       " ('E36', 1),\n",
       " ('C103', 1),\n",
       " ('E68', 1),\n",
       " ('B69', 1),\n",
       " ('B22', 1),\n",
       " ('C50', 1),\n",
       " ('A31', 1),\n",
       " ('B50', 1),\n",
       " ('C2', 1),\n",
       " ('C32', 1),\n",
       " ('B80', 1),\n",
       " ('C7', 1),\n",
       " ('B3', 1),\n",
       " ('C90', 1),\n",
       " ('C104', 1),\n",
       " ('B4', 1),\n",
       " ('D21', 1),\n",
       " ('D47', 1),\n",
       " ('C47', 1),\n",
       " ('D49', 1),\n",
       " ('B79', 1),\n",
       " ('A6', 1),\n",
       " ('B39', 1),\n",
       " ('A23', 1),\n",
       " ('E12', 1),\n",
       " ('B51 B53 B55', 1),\n",
       " ('B101', 1),\n",
       " ('A16', 1),\n",
       " ('C22 C26', 1),\n",
       " ('F E69', 1),\n",
       " ('B78', 1),\n",
       " ('C101', 1),\n",
       " ('D56', 1),\n",
       " ('E34', 1),\n",
       " ('C123', 1),\n",
       " ('C83', 1),\n",
       " ('E50', 1),\n",
       " ('D15', 1),\n",
       " ('E67', 1),\n",
       " ('B73', 1),\n",
       " ('C106', 1),\n",
       " ('E17', 1),\n",
       " ('C85', 1),\n",
       " ('E44', 1),\n",
       " ('B42', 1),\n",
       " ('D28', 1),\n",
       " ('C65', 1),\n",
       " ('E49', 1),\n",
       " ('D37', 1),\n",
       " ('D45', 1),\n",
       " ('C54', 1),\n",
       " ('B58 B60', 1),\n",
       " ('C70', 1),\n",
       " ('C45', 1),\n",
       " ('D7', 1),\n",
       " ('E10', 1),\n",
       " ('C62 C64', 1),\n",
       " ('D9', 1),\n",
       " ('D19', 1),\n",
       " ('C78', 1),\n",
       " ('C110', 0),\n",
       " ('A32', 0),\n",
       " ('B37', 0),\n",
       " ('F G63', 0),\n",
       " ('C91', 0),\n",
       " ('E58', 0),\n",
       " ('C95', 0),\n",
       " ('B102', 0),\n",
       " ('B86', 0),\n",
       " ('E31', 0),\n",
       " ('A7', 0),\n",
       " ('C124', 0),\n",
       " ('A14', 0),\n",
       " ('D46', 0),\n",
       " ('C86', 0),\n",
       " ('C30', 0),\n",
       " ('D30', 0),\n",
       " ('E77', 0),\n",
       " ('F38', 0),\n",
       " ('B71', 0),\n",
       " ('A36', 0),\n",
       " ('D50', 0),\n",
       " ('B82 B84', 0),\n",
       " ('D6', 0),\n",
       " ('C128', 0),\n",
       " ('A19', 0),\n",
       " ('A5', 0),\n",
       " ('C46', 0),\n",
       " ('T', 0),\n",
       " ('C49', 0),\n",
       " ('E46', 0),\n",
       " ('C87', 0),\n",
       " ('C82', 0),\n",
       " ('C118', 0),\n",
       " ('A10', 0),\n",
       " ('D26', 0),\n",
       " ('A24', 0),\n",
       " ('B38', 0),\n",
       " ('C111', 0),\n",
       " ('F G73', 0),\n",
       " ('B94', 0),\n",
       " ('E38', 0),\n",
       " ('D48', 0),\n",
       " ('B30', 0),\n",
       " ('E63', 0),\n",
       " ('B19', 0)]"
      ]
     },
     "execution_count": 191,
     "metadata": {},
     "output_type": "execute_result"
    }
   ],
   "source": [
    "cnt.most_common()"
   ]
  },
  {
   "cell_type": "code",
   "execution_count": null,
   "metadata": {
    "collapsed": true
   },
   "outputs": [],
   "source": []
  }
 ],
 "metadata": {
  "kernelspec": {
   "display_name": "Python 3",
   "language": "python",
   "name": "python3"
  },
  "language_info": {
   "codemirror_mode": {
    "name": "ipython",
    "version": 3
   },
   "file_extension": ".py",
   "mimetype": "text/x-python",
   "name": "python",
   "nbconvert_exporter": "python",
   "pygments_lexer": "ipython3",
   "version": "3.5.3"
  }
 },
 "nbformat": 4,
 "nbformat_minor": 2
}
