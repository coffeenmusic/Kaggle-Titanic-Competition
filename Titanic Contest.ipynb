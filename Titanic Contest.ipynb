{
 "cells": [
  {
   "cell_type": "markdown",
   "metadata": {},
   "source": [
    "### Things to try\n",
    "- Using Cabin and Ticket as features, but remove unique tickets and unique cabins. Do this over full data set\n",
    "- Use a sklearn pipeline to simplify model\n",
    "- Remove unique last names"
   ]
  },
  {
   "cell_type": "code",
   "execution_count": 1,
   "metadata": {
    "collapsed": true
   },
   "outputs": [],
   "source": [
    "import pandas as pd"
   ]
  },
  {
   "cell_type": "markdown",
   "metadata": {},
   "source": [
    "# Preprocessing"
   ]
  },
  {
   "cell_type": "markdown",
   "metadata": {},
   "source": [
    "### Import Data"
   ]
  },
  {
   "cell_type": "code",
   "execution_count": 96,
   "metadata": {
    "collapsed": true
   },
   "outputs": [],
   "source": [
    "train_input = pd.read_csv('train.csv')\n",
    "test_input = pd.read_csv('test.csv')\n",
    "\n",
    "y = train_input.Survived\n",
    "passenger_ids = test_input.PassengerId"
   ]
  },
  {
   "cell_type": "markdown",
   "metadata": {},
   "source": [
    "### Create Custom Features"
   ]
  },
  {
   "cell_type": "code",
   "execution_count": 97,
   "metadata": {
    "collapsed": true
   },
   "outputs": [],
   "source": [
    "# Create Last Name Column..........................................\n",
    "def get_last_name(full_name):\n",
    "    return full_name.split(', ')[0].lower()\n",
    "\n",
    "train_input['Last_Name'] = train_input['Name'].apply(get_last_name)\n",
    "test_input['Last_Name'] = test_input['Name'].apply(get_last_name)\n",
    "\n",
    "\n",
    "# Remove unique names..............................................\n",
    "full_set = train_input.append(test_input)\n",
    "list_counts = full_set['Last_Name'].value_counts()\n",
    "name_list = [k for k, v in list_counts.items() if v > 1]\n",
    "def drop_unique_names(last):\n",
    "    if last in name_list:\n",
    "        return last\n",
    "    else:\n",
    "        return 'N/A'\n",
    "    \n",
    "train_input['Last_Name'] = train_input['Last_Name'].apply(drop_unique_names)\n",
    "test_input['Last_Name'] = test_input['Last_Name'].apply(drop_unique_names)"
   ]
  },
  {
   "cell_type": "code",
   "execution_count": 41,
   "metadata": {
    "collapsed": true
   },
   "outputs": [],
   "source": [
    "# Create a column for each individual cabin letter\n",
    "def split_cabin(cabin):\n",
    "    return_vals = ['N/A'] * 4\n",
    "    if type(cabin) == str:\n",
    "        cabins = cabin.split(' ')\n",
    "        for i, c in enumerate(cabins):\n",
    "            if c[0].isalpha(): # First char is a letter\n",
    "                return_vals[i] = c[0]\n",
    "            else:\n",
    "                return_vals[i] = 'N/A'\n",
    "    else:\n",
    "        pass\n",
    "    \n",
    "    return tuple(return_vals)\n",
    "\n",
    "train_input['C1'], train_input['C2'], train_input['C3'], train_input['C4'] = zip(*train_input['Cabin'].apply(split_cabin))\n",
    "test_input['C1'], test_input['C2'], test_input['C3'], test_input['C4'] = zip(*test_input['Cabin'].apply(split_cabin))"
   ]
  },
  {
   "cell_type": "markdown",
   "metadata": {},
   "source": [
    "### Drop unwanted features"
   ]
  },
  {
   "cell_type": "code",
   "execution_count": 42,
   "metadata": {
    "collapsed": true
   },
   "outputs": [],
   "source": [
    "train_input = train_input.drop(['PassengerId', 'Survived', 'Name', 'Ticket', 'Cabin'], axis=1)\n",
    "test_input = test_input.drop(['PassengerId', 'Name', 'Ticket', 'Cabin'], axis=1)"
   ]
  },
  {
   "cell_type": "code",
   "execution_count": 43,
   "metadata": {
    "collapsed": true
   },
   "outputs": [],
   "source": [
    "from sklearn.preprocessing import Imputer\n",
    "\n",
    "def preprocess_data(X):\n",
    "    # Add dataframe columns signifying where missing data is located......    \n",
    "    cols_with_missing = (col for col in X.columns if X[col].isnull().any()) # Get columns with missing data\n",
    "\n",
    "    for col in cols_with_missing:\n",
    "        X[col + '_missing'] = X[col].isnull()\n",
    "        \n",
    "    # One hot encode data..................................................\n",
    "    ohe_X = pd.get_dummies(X)\n",
    "    \n",
    "    return ohe_X"
   ]
  },
  {
   "cell_type": "code",
   "execution_count": 44,
   "metadata": {
    "collapsed": true
   },
   "outputs": [],
   "source": [
    "\"\"\"\n",
    "Label missing data and one hot encode categorical data.\n",
    "Preprocess all data together to one hot encode all categories in data. Otherwise, \n",
    "the test, validation, and training sets would all have subsets of the entire list of\n",
    "available categories.\n",
    "\"\"\"\n",
    "full_set = preprocess_data(train_input.append(test_input, ignore_index=True))"
   ]
  },
  {
   "cell_type": "code",
   "execution_count": 45,
   "metadata": {
    "collapsed": true
   },
   "outputs": [],
   "source": [
    "# Split training and testing sets\n",
    "train_processed = full_set[:len(train_input)].reset_index(drop=True)\n",
    "test_processed = full_set[-len(test_input):].reset_index(drop=True)"
   ]
  },
  {
   "cell_type": "markdown",
   "metadata": {},
   "source": [
    "### Train Test Split\n",
    "Train test split before preprocessing to prevent data leakage"
   ]
  },
  {
   "cell_type": "code",
   "execution_count": 46,
   "metadata": {
    "collapsed": true
   },
   "outputs": [],
   "source": [
    "# from sklearn.model_selection import train_test_split\n",
    "# df_train_X, df_val_X, train_y, val_y = train_test_split(train_processed, y.values, test_size=0.2)"
   ]
  },
  {
   "cell_type": "code",
   "execution_count": 47,
   "metadata": {
    "collapsed": true
   },
   "outputs": [],
   "source": [
    "def impute_data(df):\n",
    "    # Fit missing data using imputation....................................\n",
    "    imputer = Imputer()\n",
    "    imputed = pd.DataFrame(imputer.fit_transform(df))\n",
    "    imputed.columns = df.columns\n",
    "    \n",
    "    return imputed"
   ]
  },
  {
   "cell_type": "code",
   "execution_count": 48,
   "metadata": {
    "collapsed": true
   },
   "outputs": [],
   "source": [
    "# df_train_X = impute_data(df_train_X)\n",
    "# df_val_X = impute_data(df_val_X)\n",
    "df_train_X = impute_data(train_processed)\n",
    "df_test_X = impute_data(test_processed)"
   ]
  },
  {
   "cell_type": "code",
   "execution_count": 49,
   "metadata": {
    "collapsed": true
   },
   "outputs": [],
   "source": [
    "# Get just data, drop dataframe\n",
    "train_X = df_train_X.values\n",
    "# val_X = df_val_X.values\n",
    "test_X = df_test_X.values"
   ]
  },
  {
   "cell_type": "markdown",
   "metadata": {},
   "source": [
    "# Train Data"
   ]
  },
  {
   "cell_type": "markdown",
   "metadata": {},
   "source": [
    "### Find optimal model cycle count n_estimators"
   ]
  },
  {
   "cell_type": "code",
   "execution_count": 50,
   "metadata": {
    "collapsed": true
   },
   "outputs": [],
   "source": [
    "import matplotlib\n",
    "import matplotlib.pyplot as plt\n",
    "from xgboost import XGBRegressor\n",
    "# from sklearn.metrics import mean_absolute_error\n",
    "\n",
    "# def xgb_predict(n_estimator, learning_rate=0.01):\n",
    "#     model = XGBRegressor(n_estimators=n_estimator, learning_rate=learning_rate)\n",
    "#     model.fit(train_X, train_y)\n",
    "\n",
    "#     predictions = model.predict(val_X)\n",
    "#     val_mean_error = mean_absolute_error(predictions, val_y)\n",
    "\n",
    "#     predictions = model.predict(train_X)\n",
    "#     train_mean_error = mean_absolute_error(predictions, train_y)\n",
    "    \n",
    "#     return train_mean_error, val_mean_error\n",
    "    \n",
    "# def get_train_val_data(plot_range):\n",
    "#     val_mean_errors = []\n",
    "#     train_mean_errors = []\n",
    "#     for n in plot_range:  \n",
    "#         train_mean_error, val_mean_error = xgb_predict(n)\n",
    "        \n",
    "#         train_mean_errors += [train_mean_error]\n",
    "#         val_mean_errors += [val_mean_error]\n",
    "#     return train_mean_errors, val_mean_errors"
   ]
  },
  {
   "cell_type": "code",
   "execution_count": 51,
   "metadata": {
    "collapsed": true
   },
   "outputs": [],
   "source": [
    "from sklearn.model_selection import cross_val_score\n",
    "\n",
    "def get_cross_val_scores(plot_range, X, y, learning_rate=0.01):\n",
    "    scores = []\n",
    "    for n in plot_range:\n",
    "        model = XGBRegressor(n_estimators=n, learning_rate=learning_rate)\n",
    "        model.fit(X, y)\n",
    "    \n",
    "        n_scores = cross_val_score(model, X, y, scoring='neg_mean_absolute_error')\n",
    "        scores += [-1*n_scores.mean()]\n",
    "    return scores"
   ]
  },
  {
   "cell_type": "markdown",
   "metadata": {},
   "source": [
    "# Grid Search For Best Solution"
   ]
  },
  {
   "cell_type": "code",
   "execution_count": 54,
   "metadata": {
    "scrolled": true
   },
   "outputs": [
    {
     "data": {
      "image/png": "[encoded data removed]",
      "text/plain": [
       "<matplotlib.figure.Figure at 0x214b3977630>"
      ]
     },
     "metadata": {},
     "output_type": "display_data"
    }
   ],
   "source": [
    "# Broad plot\n",
    "test_range = range(100, 11000, 2000)\n",
    "val_mean_error = get_cross_val_scores(test_range, train_X, y)\n",
    "plt.plot(test_range, val_mean_error)\n",
    "plt.show()"
   ]
  },
  {
   "cell_type": "code",
   "execution_count": 56,
   "metadata": {},
   "outputs": [
    {
     "data": {
      "image/png": "[encoded data removed]",
      "text/plain": [
       "<matplotlib.figure.Figure at 0x214b6cf8b70>"
      ]
     },
     "metadata": {},
     "output_type": "display_data"
    }
   ],
   "source": [
    "# Narrow plot\n",
    "test_range = range(10000, 18000, 2000)\n",
    "val_mean_error = get_cross_val_scores(test_range, train_X, y)\n",
    "plt.plot(test_range, val_mean_error)\n",
    "plt.show()"
   ]
  },
  {
   "cell_type": "code",
   "execution_count": 236,
   "metadata": {},
   "outputs": [
    {
     "data": {
      "image/png": "[encoded data removed]",
      "text/plain": [
       "<matplotlib.figure.Figure at 0x2d935a537b8>"
      ]
     },
     "metadata": {},
     "output_type": "display_data"
    }
   ],
   "source": [
    "# # Broad plot\n",
    "# test_range = range(100, 9100, 1000)\n",
    "# train_mean_error, val_mean_error = get_train_val_data(test_range)\n",
    "# plt.plot(test_range, val_mean_error, test_range, train_mean_error)\n",
    "# plt.show()"
   ]
  },
  {
   "cell_type": "markdown",
   "metadata": {},
   "source": [
    "### Get best n"
   ]
  },
  {
   "cell_type": "code",
   "execution_count": 55,
   "metadata": {},
   "outputs": [
    {
     "name": "stdout",
     "output_type": "stream",
     "text": [
      "Index: 5, Value: 0.2358, n_estimator: 10100\n"
     ]
    }
   ],
   "source": [
    "idx_of_min_err = val_mean_error.index(min(val_mean_error))\n",
    "best_err = val_mean_error[idx_of_min_err]\n",
    "best_n = list(test_range)[idx_of_min_err]\n",
    "print('Index: {0}, Value: {1:0.4f}, n_estimator: {2}'.format(idx_of_min_err, best_err, best_n))"
   ]
  },
  {
   "cell_type": "code",
   "execution_count": 196,
   "metadata": {},
   "outputs": [
    {
     "name": "stdout",
     "output_type": "stream",
     "text": [
      "0.27502971521302977\n"
     ]
    }
   ],
   "source": [
    "# train_err, val_err = xgb_predict(644)\n",
    "# print(val_err)"
   ]
  },
  {
   "cell_type": "markdown",
   "metadata": {},
   "source": [
    "### Get best n using early stopping"
   ]
  },
  {
   "cell_type": "code",
   "execution_count": 22,
   "metadata": {},
   "outputs": [],
   "source": [
    "# model = XGBRegressor(n_estimators=10000, learning_rate=0.01)\n",
    "# model.fit(train_X, train_y, early_stopping_rounds=1000, eval_set=[(val_X, val_y)])"
   ]
  },
  {
   "cell_type": "code",
   "execution_count": 23,
   "metadata": {},
   "outputs": [],
   "source": [
    "# from sklearn.model_selection import cross_val_score\n",
    "# scores = cross_val_score(model, train_X, train_y, scoring='mean_absolute_error')\n",
    "# print(scores)"
   ]
  },
  {
   "cell_type": "markdown",
   "metadata": {},
   "source": [
    "# Train Full Data Set"
   ]
  },
  {
   "cell_type": "code",
   "execution_count": 182,
   "metadata": {},
   "outputs": [
    {
     "data": {
      "text/plain": [
       "XGBRegressor(base_score=0.5, booster='gbtree', colsample_bylevel=1,\n",
       "       colsample_bytree=1, gamma=0, learning_rate=0.01, max_delta_step=0,\n",
       "       max_depth=3, min_child_weight=1, missing=None, n_estimators=644,\n",
       "       n_jobs=1, nthread=None, objective='reg:linear', random_state=0,\n",
       "       reg_alpha=0, reg_lambda=1, scale_pos_weight=1, seed=None,\n",
       "       silent=True, subsample=1)"
      ]
     },
     "execution_count": 182,
     "metadata": {},
     "output_type": "execute_result"
    }
   ],
   "source": [
    "# Train on full data set with optimal model cycle count\n",
    "model = XGBRegressor(n_estimators=644, learning_rate=.01)\n",
    "model.fit(df_train_X.append(df_val_X).values, y.values)"
   ]
  },
  {
   "cell_type": "markdown",
   "metadata": {
    "collapsed": true
   },
   "source": [
    "# Predict on Test Set"
   ]
  },
  {
   "cell_type": "code",
   "execution_count": 26,
   "metadata": {
    "collapsed": true
   },
   "outputs": [],
   "source": [
    "final_predictions = model.predict(test_X)\n",
    "\n",
    "# Convert to boolean values\n",
    "final_bool = [1 if p > 0.5 else 0 for p in final_predictions]"
   ]
  },
  {
   "cell_type": "code",
   "execution_count": 30,
   "metadata": {
    "collapsed": true
   },
   "outputs": [],
   "source": [
    "# Export predictions for submission\n",
    "output = pd.DataFrame({'PassengerId': passenger_ids, 'Survived': final_bool})\n",
    "output.to_csv('submission.csv', index=False)"
   ]
  },
  {
   "cell_type": "markdown",
   "metadata": {},
   "source": [
    "# Partial Dependency Plots\n",
    "How each feature affects the model"
   ]
  },
  {
   "cell_type": "code",
   "execution_count": 338,
   "metadata": {},
   "outputs": [
    {
     "data": {
      "text/plain": [
       "GradientBoostingRegressor(alpha=0.9, criterion='friedman_mse', init=None,\n",
       "             learning_rate=0.1, loss='ls', max_depth=3, max_features=None,\n",
       "             max_leaf_nodes=None, min_impurity_decrease=0.0,\n",
       "             min_impurity_split=None, min_samples_leaf=1,\n",
       "             min_samples_split=2, min_weight_fraction_leaf=0.0,\n",
       "             n_estimators=100, presort='auto', random_state=None,\n",
       "             subsample=1.0, verbose=0, warm_start=False)"
      ]
     },
     "execution_count": 338,
     "metadata": {},
     "output_type": "execute_result"
    }
   ],
   "source": [
    "from sklearn.ensemble import GradientBoostingRegressor\n",
    "from sklearn.ensemble.partial_dependence import partial_dependence, plot_partial_dependence\n",
    "import matplotlib\n",
    "%matplotlib inline\n",
    "\n",
    "partial_dependence_model = GradientBoostingRegressor()\n",
    "partial_dependence_model.fit(titanic_X.values, y.values)"
   ]
  },
  {
   "cell_type": "markdown",
   "metadata": {},
   "source": [
    "### Age vs Survival Likelihood\n",
    "More likely to survive if younger"
   ]
  },
  {
   "cell_type": "code",
   "execution_count": 32,
   "metadata": {},
   "outputs": [
    {
     "data": {
      "image/png": "[encoded data removed]",
      "text/plain": [
       "<matplotlib.figure.Figure at 0x17e07d73ba8>"
      ]
     },
     "metadata": {},
     "output_type": "display_data"
    }
   ],
   "source": [
    "plotter = plot_partial_dependence(partial_dependence_model, \n",
    "                                  features=[0], # Column numbers of plots to show\n",
    "                                  X=titanic_X.values, \n",
    "                                  feature_names=list(titanic_X.columns),\n",
    "                                 grid_resolution=10)"
   ]
  },
  {
   "cell_type": "markdown",
   "metadata": {},
   "source": [
    "### Fare Price vs Surival Likelihood\n",
    "More likely to survive if payed more for fare"
   ]
  },
  {
   "cell_type": "code",
   "execution_count": 33,
   "metadata": {},
   "outputs": [
    {
     "data": {
      "image/png": "[encoded data removed]",
      "text/plain": [
       "<matplotlib.figure.Figure at 0x17e08e45be0>"
      ]
     },
     "metadata": {},
     "output_type": "display_data"
    }
   ],
   "source": [
    "plotter = plot_partial_dependence(partial_dependence_model, \n",
    "                                  features=[1], # Column numbers of plots to show\n",
    "                                  X=titanic_X.values, \n",
    "                                  feature_names=list(titanic_X.columns),\n",
    "                                 grid_resolution=10)"
   ]
  },
  {
   "cell_type": "markdown",
   "metadata": {},
   "source": [
    "### Parent Child Count vs Survival Likelihood\n",
    "More likely to survive with fewer parent/child count (probably fewer children)"
   ]
  },
  {
   "cell_type": "code",
   "execution_count": 34,
   "metadata": {},
   "outputs": [
    {
     "data": {
      "image/png": "[encoded data removed]",
      "text/plain": [
       "<matplotlib.figure.Figure at 0x17e08ee9ac8>"
      ]
     },
     "metadata": {},
     "output_type": "display_data"
    }
   ],
   "source": [
    "plotter = plot_partial_dependence(partial_dependence_model, \n",
    "                                  features=[2], # Column numbers of plots to show\n",
    "                                  X=titanic_X.values, \n",
    "                                  feature_names=list(titanic_X.columns),\n",
    "                                 grid_resolution=10)"
   ]
  },
  {
   "cell_type": "markdown",
   "metadata": {},
   "source": [
    "### Travel Class vs Survival Likelihood\n",
    "More likely to survive if 1st Class"
   ]
  },
  {
   "cell_type": "code",
   "execution_count": 132,
   "metadata": {},
   "outputs": [
    {
     "data": {
      "image/png": "[encoded data removed]",
      "text/plain": [
       "<matplotlib.figure.Figure at 0x17e09a86b38>"
      ]
     },
     "metadata": {},
     "output_type": "display_data"
    }
   ],
   "source": [
    "plotter = plot_partial_dependence(partial_dependence_model, \n",
    "                                  features=[3], # Column numbers of plots to show\n",
    "                                  X=titanic_X.values, \n",
    "                                  feature_names=list(titanic_X.columns),\n",
    "                                 grid_resolution=10)"
   ]
  },
  {
   "cell_type": "markdown",
   "metadata": {},
   "source": [
    "### Sibling Count vs Survival Likelihood\n",
    "Less siblings increased survival likelihood"
   ]
  },
  {
   "cell_type": "code",
   "execution_count": 133,
   "metadata": {
    "scrolled": true
   },
   "outputs": [
    {
     "data": {
      "image/png": "[encoded data removed]",
      "text/plain": [
       "<matplotlib.figure.Figure at 0x17e09b44c50>"
      ]
     },
     "metadata": {},
     "output_type": "display_data"
    }
   ],
   "source": [
    "plotter = plot_partial_dependence(partial_dependence_model, \n",
    "                                  features=[4], # Column numbers of plots to show\n",
    "                                  X=titanic_X.values, \n",
    "                                  feature_names=list(titanic_X.columns),\n",
    "                                 grid_resolution=10)"
   ]
  },
  {
   "cell_type": "code",
   "execution_count": 343,
   "metadata": {},
   "outputs": [
    {
     "data": {
      "text/plain": [
       "array(['Age', 'Fare', 'Parch', 'Pclass', 'SibSp', 'Age_missing',\n",
       "       'Embarked_missing', 'Fare_missing', 'Embarked_C', 'Embarked_Q',\n",
       "       'Embarked_S', 'Sex_female', 'Sex_male', 'C1_Ch_A', 'C1_Ch_B',\n",
       "       'C1_Ch_C', 'C1_Ch_D', 'C1_Ch_E', 'C1_Ch_F', 'C1_Ch_G', 'C1_Ch_N/A',\n",
       "       'C1_Ch_T', 'C1_N_', 'C1_N_10', 'C1_N_101', 'C1_N_102', 'C1_N_103',\n",
       "       'C1_N_104', 'C1_N_105', 'C1_N_106', 'C1_N_11', 'C1_N_110',\n",
       "       'C1_N_111', 'C1_N_116', 'C1_N_118', 'C1_N_12', 'C1_N_121',\n",
       "       'C1_N_123', 'C1_N_124', 'C1_N_125', 'C1_N_126', 'C1_N_128',\n",
       "       'C1_N_130', 'C1_N_132', 'C1_N_14', 'C1_N_148', 'C1_N_15',\n",
       "       'C1_N_16', 'C1_N_17', 'C1_N_18', 'C1_N_19', 'C1_N_2', 'C1_N_20',\n",
       "       'C1_N_21', 'C1_N_22', 'C1_N_23', 'C1_N_24', 'C1_N_25', 'C1_N_26',\n",
       "       'C1_N_28', 'C1_N_29', 'C1_N_3', 'C1_N_30', 'C1_N_31', 'C1_N_32',\n",
       "       'C1_N_33', 'C1_N_34', 'C1_N_35', 'C1_N_36', 'C1_N_37', 'C1_N_38',\n",
       "       'C1_N_39', 'C1_N_4', 'C1_N_40', 'C1_N_41', 'C1_N_42', 'C1_N_43',\n",
       "       'C1_N_44', 'C1_N_45', 'C1_N_46', 'C1_N_47', 'C1_N_48', 'C1_N_49',\n",
       "       'C1_N_5', 'C1_N_50', 'C1_N_51', 'C1_N_52', 'C1_N_53', 'C1_N_54',\n",
       "       'C1_N_55', 'C1_N_56', 'C1_N_57', 'C1_N_58', 'C1_N_6', 'C1_N_60',\n",
       "       'C1_N_61', 'C1_N_62', 'C1_N_63', 'C1_N_65', 'C1_N_67', 'C1_N_68',\n",
       "       'C1_N_69', 'C1_N_7', 'C1_N_70', 'C1_N_71', 'C1_N_73', 'C1_N_77',\n",
       "       'C1_N_78', 'C1_N_79', 'C1_N_8', 'C1_N_80', 'C1_N_82', 'C1_N_83',\n",
       "       'C1_N_85', 'C1_N_86', 'C1_N_87', 'C1_N_89', 'C1_N_9', 'C1_N_90',\n",
       "       'C1_N_91', 'C1_N_92', 'C1_N_93', 'C1_N_94', 'C1_N_95', 'C1_N_96',\n",
       "       'C1_N_97', 'C1_N_99', 'C1_N_N/A', 'C2_Ch_B', 'C2_Ch_C', 'C2_Ch_D',\n",
       "       'C2_Ch_E', 'C2_Ch_G', 'C2_Ch_N/A', 'C2_N_12', 'C2_N_25', 'C2_N_26',\n",
       "       'C2_N_41', 'C2_N_46', 'C2_N_53', 'C2_N_54', 'C2_N_57', 'C2_N_59',\n",
       "       'C2_N_60', 'C2_N_63', 'C2_N_64', 'C2_N_69', 'C2_N_73', 'C2_N_84',\n",
       "       'C2_N_98', 'C2_N_N/A', 'C3_Ch_B', 'C3_Ch_C', 'C3_Ch_N/A',\n",
       "       'C3_N_27', 'C3_N_55', 'C3_N_56', 'C3_N_63', 'C3_N_N/A', 'C4_Ch_B',\n",
       "       'C4_Ch_N/A', 'C4_N_66', 'C4_N_N/A'], dtype=object)"
      ]
     },
     "execution_count": 343,
     "metadata": {},
     "output_type": "execute_result"
    }
   ],
   "source": [
    "titanic_X.columns.values"
   ]
  },
  {
   "cell_type": "markdown",
   "metadata": {},
   "source": [
    "### Cabin vs Survival Likelihood"
   ]
  },
  {
   "cell_type": "code",
   "execution_count": 176,
   "metadata": {
    "collapsed": true
   },
   "outputs": [],
   "source": [
    "from collections import Counter\n",
    "import math\n",
    "cnt = Counter()"
   ]
  },
  {
   "cell_type": "code",
   "execution_count": 177,
   "metadata": {
    "collapsed": true
   },
   "outputs": [],
   "source": [
    "cabin_survival = {}\n",
    "for c, s in zip(train_input['Cabin'], train_input['Survived']):\n",
    "    # If NaN, skip\n",
    "    if type(c) == float:\n",
    "        continue\n",
    "    cnt.update({c: s})"
   ]
  },
  {
   "cell_type": "code",
   "execution_count": 191,
   "metadata": {},
   "outputs": [
    {
     "data": {
      "text/plain": [
       "[('B96 B98', 4),\n",
       " ('F33', 3),\n",
       " ('E101', 3),\n",
       " ('D17', 2),\n",
       " ('B28', 2),\n",
       " ('F2', 2),\n",
       " ('E24', 2),\n",
       " ('E25', 2),\n",
       " ('D20', 2),\n",
       " ('C52', 2),\n",
       " ('C125', 2),\n",
       " ('B35', 2),\n",
       " ('C23 C25 C27', 2),\n",
       " ('B18', 2),\n",
       " ('B77', 2),\n",
       " ('F4', 2),\n",
       " ('B20', 2),\n",
       " ('G6', 2),\n",
       " ('B49', 2),\n",
       " ('D33', 2),\n",
       " ('D36', 2),\n",
       " ('B5', 2),\n",
       " ('E121', 2),\n",
       " ('E33', 2),\n",
       " ('E8', 2),\n",
       " ('C126', 2),\n",
       " ('D', 2),\n",
       " ('C92', 2),\n",
       " ('B57 B59 B63 B66', 2),\n",
       " ('D35', 2),\n",
       " ('C93', 2),\n",
       " ('C68', 1),\n",
       " ('D11', 1),\n",
       " ('D10 D12', 1),\n",
       " ('A34', 1),\n",
       " ('C148', 1),\n",
       " ('E40', 1),\n",
       " ('B41', 1),\n",
       " ('A26', 1),\n",
       " ('A20', 1),\n",
       " ('C99', 1),\n",
       " ('E36', 1),\n",
       " ('C103', 1),\n",
       " ('E68', 1),\n",
       " ('B69', 1),\n",
       " ('B22', 1),\n",
       " ('C50', 1),\n",
       " ('A31', 1),\n",
       " ('B50', 1),\n",
       " ('C2', 1),\n",
       " ('C32', 1),\n",
       " ('B80', 1),\n",
       " ('C7', 1),\n",
       " ('B3', 1),\n",
       " ('C90', 1),\n",
       " ('C104', 1),\n",
       " ('B4', 1),\n",
       " ('D21', 1),\n",
       " ('D47', 1),\n",
       " ('C47', 1),\n",
       " ('D49', 1),\n",
       " ('B79', 1),\n",
       " ('A6', 1),\n",
       " ('B39', 1),\n",
       " ('A23', 1),\n",
       " ('E12', 1),\n",
       " ('B51 B53 B55', 1),\n",
       " ('B101', 1),\n",
       " ('A16', 1),\n",
       " ('C22 C26', 1),\n",
       " ('F E69', 1),\n",
       " ('B78', 1),\n",
       " ('C101', 1),\n",
       " ('D56', 1),\n",
       " ('E34', 1),\n",
       " ('C123', 1),\n",
       " ('C83', 1),\n",
       " ('E50', 1),\n",
       " ('D15', 1),\n",
       " ('E67', 1),\n",
       " ('B73', 1),\n",
       " ('C106', 1),\n",
       " ('E17', 1),\n",
       " ('C85', 1),\n",
       " ('E44', 1),\n",
       " ('B42', 1),\n",
       " ('D28', 1),\n",
       " ('C65', 1),\n",
       " ('E49', 1),\n",
       " ('D37', 1),\n",
       " ('D45', 1),\n",
       " ('C54', 1),\n",
       " ('B58 B60', 1),\n",
       " ('C70', 1),\n",
       " ('C45', 1),\n",
       " ('D7', 1),\n",
       " ('E10', 1),\n",
       " ('C62 C64', 1),\n",
       " ('D9', 1),\n",
       " ('D19', 1),\n",
       " ('C78', 1),\n",
       " ('C110', 0),\n",
       " ('A32', 0),\n",
       " ('B37', 0),\n",
       " ('F G63', 0),\n",
       " ('C91', 0),\n",
       " ('E58', 0),\n",
       " ('C95', 0),\n",
       " ('B102', 0),\n",
       " ('B86', 0),\n",
       " ('E31', 0),\n",
       " ('A7', 0),\n",
       " ('C124', 0),\n",
       " ('A14', 0),\n",
       " ('D46', 0),\n",
       " ('C86', 0),\n",
       " ('C30', 0),\n",
       " ('D30', 0),\n",
       " ('E77', 0),\n",
       " ('F38', 0),\n",
       " ('B71', 0),\n",
       " ('A36', 0),\n",
       " ('D50', 0),\n",
       " ('B82 B84', 0),\n",
       " ('D6', 0),\n",
       " ('C128', 0),\n",
       " ('A19', 0),\n",
       " ('A5', 0),\n",
       " ('C46', 0),\n",
       " ('T', 0),\n",
       " ('C49', 0),\n",
       " ('E46', 0),\n",
       " ('C87', 0),\n",
       " ('C82', 0),\n",
       " ('C118', 0),\n",
       " ('A10', 0),\n",
       " ('D26', 0),\n",
       " ('A24', 0),\n",
       " ('B38', 0),\n",
       " ('C111', 0),\n",
       " ('F G73', 0),\n",
       " ('B94', 0),\n",
       " ('E38', 0),\n",
       " ('D48', 0),\n",
       " ('B30', 0),\n",
       " ('E63', 0),\n",
       " ('B19', 0)]"
      ]
     },
     "execution_count": 191,
     "metadata": {},
     "output_type": "execute_result"
    }
   ],
   "source": [
    "cnt.most_common()"
   ]
  },
  {
   "cell_type": "code",
   "execution_count": null,
   "metadata": {
    "collapsed": true
   },
   "outputs": [],
   "source": []
  }
 ],
 "metadata": {
  "kernelspec": {
   "display_name": "Python 3",
   "language": "python",
   "name": "python3"
  },
  "language_info": {
   "codemirror_mode": {
    "name": "ipython",
    "version": 3
   },
   "file_extension": ".py",
   "mimetype": "text/x-python",
   "name": "python",
   "nbconvert_exporter": "python",
   "pygments_lexer": "ipython3",
   "version": "3.5.3"
  }
 },
 "nbformat": 4,
 "nbformat_minor": 2
}
