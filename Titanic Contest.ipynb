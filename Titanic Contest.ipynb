{
 "cells": [
  {
   "cell_type": "markdown",
   "metadata": {},
   "source": [
    "### Things to try\n",
    "- Using Cabin and Ticket as features, but remove unique tickets and unique cabins. Do this over full data set\n",
    "- Use a sklearn pipeline to simplify model\n",
    "- Extract Title from name"
   ]
  },
  {
   "cell_type": "code",
   "execution_count": 27,
   "metadata": {
    "collapsed": true
   },
   "outputs": [],
   "source": [
    "import pandas as pd"
   ]
  },
  {
   "cell_type": "markdown",
   "metadata": {},
   "source": [
    "# Preprocessing"
   ]
  },
  {
   "cell_type": "markdown",
   "metadata": {},
   "source": [
    "### Import Data"
   ]
  },
  {
   "cell_type": "code",
   "execution_count": 28,
   "metadata": {
    "collapsed": true
   },
   "outputs": [],
   "source": [
    "train_input = pd.read_csv('train.csv')\n",
    "test_input = pd.read_csv('test.csv')\n",
    "\n",
    "y = train_input.Survived\n",
    "passenger_ids = test_input.PassengerId"
   ]
  },
  {
   "cell_type": "markdown",
   "metadata": {},
   "source": [
    "### Create Custom Features"
   ]
  },
  {
   "cell_type": "code",
   "execution_count": 29,
   "metadata": {},
   "outputs": [],
   "source": [
    "# import re\n",
    "# rare_list = ['Lady.', 'Countess.', 'Capt.', 'Col.', 'Don.', 'Dr.', 'Major.', 'Rev.', 'Sir.', 'Jonkheer.', 'Dona.']\n",
    "\n",
    "# # Get Title from Name\n",
    "# def get_title(text):\n",
    "#     m = re.search(' ([A-Za-z]+)\\.', text)\n",
    "#     try:\n",
    "#         title = m.group(0).strip()\n",
    "#         if title in rare_list:\n",
    "#             return 'Rare.'\n",
    "#         elif title in ['Mlle.', 'Ms.']:\n",
    "#             return 'Miss.'\n",
    "#         elif title == 'Mme.':\n",
    "#             return 'Mrs.'\n",
    "#         else:\n",
    "#             return title\n",
    "#     except:\n",
    "#         return 'None'\n",
    "\n",
    "# train_input['Title'] = train_input['Name'].apply(get_title)\n",
    "# test_input['Title'] = test_input['Name'].apply(get_title)\n",
    "\n",
    "# print(train_input.Title.value_counts())"
   ]
  },
  {
   "cell_type": "code",
   "execution_count": 30,
   "metadata": {
    "collapsed": true
   },
   "outputs": [],
   "source": [
    "# # Create a column for each individual cabin letter\n",
    "# def split_cabin(cabin):\n",
    "#     return_vals = ['N/A'] * 4\n",
    "#     if type(cabin) == str:\n",
    "#         cabins = cabin.split(' ')\n",
    "#         for i, c in enumerate(cabins):\n",
    "#             if c[0].isalpha(): # First char is a letter\n",
    "#                 return_vals[i] = c[0]\n",
    "#             else:\n",
    "#                 return_vals[i] = 'N/A'\n",
    "#     else:\n",
    "#         pass\n",
    "    \n",
    "#     return tuple(return_vals)\n",
    "\n",
    "# train_input['C1'], train_input['C2'], train_input['C3'], train_input['C4'] = zip(*train_input['Cabin'].apply(split_cabin))\n",
    "# test_input['C1'], test_input['C2'], test_input['C3'], test_input['C4'] = zip(*test_input['Cabin'].apply(split_cabin))"
   ]
  },
  {
   "cell_type": "markdown",
   "metadata": {},
   "source": [
    "### Drop unwanted features"
   ]
  },
  {
   "cell_type": "code",
   "execution_count": 31,
   "metadata": {
    "collapsed": true
   },
   "outputs": [],
   "source": [
    "train_input = train_input.drop(['PassengerId', 'Survived', 'Name', 'Ticket', 'Cabin'], axis=1)\n",
    "test_input = test_input.drop(['PassengerId', 'Name', 'Ticket', 'Cabin'], axis=1)"
   ]
  },
  {
   "cell_type": "code",
   "execution_count": 32,
   "metadata": {
    "collapsed": true
   },
   "outputs": [],
   "source": [
    "from sklearn.preprocessing import Imputer\n",
    "\n",
    "def preprocess_data(X):\n",
    "    # Add dataframe columns signifying where missing data is located......    \n",
    "    cols_with_missing = (col for col in X.columns if X[col].isnull().any()) # Get columns with missing data\n",
    "\n",
    "    for col in cols_with_missing:\n",
    "        X[col + '_missing'] = X[col].isnull()\n",
    "        \n",
    "    # One hot encode data..................................................\n",
    "    ohe_X = pd.get_dummies(X)\n",
    "    \n",
    "    return ohe_X"
   ]
  },
  {
   "cell_type": "code",
   "execution_count": 33,
   "metadata": {
    "collapsed": true
   },
   "outputs": [],
   "source": [
    "\"\"\"\n",
    "Label missing data and one hot encode categorical data.\n",
    "Preprocess all data together to one hot encode all categories in data. Otherwise, \n",
    "the test, validation, and training sets would all have subsets of the entire list of\n",
    "available categories.\n",
    "\"\"\"\n",
    "full_set = preprocess_data(train_input.append(test_input, ignore_index=True))"
   ]
  },
  {
   "cell_type": "code",
   "execution_count": 34,
   "metadata": {
    "collapsed": true
   },
   "outputs": [],
   "source": [
    "# Split training and testing sets\n",
    "train_processed = full_set[:len(train_input)].reset_index(drop=True)\n",
    "test_processed = full_set[-len(test_input):].reset_index(drop=True)"
   ]
  },
  {
   "cell_type": "markdown",
   "metadata": {},
   "source": [
    "### Train Test Split\n",
    "Train test split before preprocessing to prevent data leakage"
   ]
  },
  {
   "cell_type": "code",
   "execution_count": 35,
   "metadata": {
    "collapsed": true
   },
   "outputs": [],
   "source": [
    "def impute_data(df):\n",
    "    # Fit missing data using imputation....................................\n",
    "    imputer = Imputer()\n",
    "    imputed = pd.DataFrame(imputer.fit_transform(df))\n",
    "    imputed.columns = df.columns\n",
    "    \n",
    "    return imputed"
   ]
  },
  {
   "cell_type": "code",
   "execution_count": 36,
   "metadata": {
    "collapsed": true
   },
   "outputs": [],
   "source": [
    "df_train_X = impute_data(train_processed)\n",
    "df_test_X = impute_data(test_processed)"
   ]
  },
  {
   "cell_type": "code",
   "execution_count": 37,
   "metadata": {
    "collapsed": true
   },
   "outputs": [],
   "source": [
    "# Get just data, drop dataframe\n",
    "train_X = df_train_X.values\n",
    "test_X = df_test_X.values"
   ]
  },
  {
   "cell_type": "markdown",
   "metadata": {},
   "source": [
    "# Train Data"
   ]
  },
  {
   "cell_type": "markdown",
   "metadata": {},
   "source": [
    "### Find optimal model cycle count n_estimators"
   ]
  },
  {
   "cell_type": "code",
   "execution_count": 38,
   "metadata": {
    "collapsed": true
   },
   "outputs": [],
   "source": [
    "import matplotlib\n",
    "import matplotlib.pyplot as plt\n",
    "from xgboost import XGBRegressor\n",
    "from sklearn.model_selection import cross_val_score\n",
    "\n",
    "def get_cross_val_scores(plot_range, X, y, learning_rate=0.01):\n",
    "    scores = []\n",
    "    for n in plot_range:\n",
    "        model = XGBRegressor(n_estimators=n, learning_rate=learning_rate)\n",
    "        model.fit(X, y)\n",
    "    \n",
    "        n_scores = cross_val_score(model, X, y, scoring='neg_mean_absolute_error')\n",
    "        scores += [-1*n_scores.mean()]\n",
    "    return scores"
   ]
  },
  {
   "cell_type": "markdown",
   "metadata": {},
   "source": [
    "# Grid Search For Best Solution"
   ]
  },
  {
   "cell_type": "code",
   "execution_count": 39,
   "metadata": {
    "scrolled": true
   },
   "outputs": [
    {
     "data": {
      "image/png": "[encoded data removed]",
      "text/plain": [
       "<matplotlib.figure.Figure at 0x257c4a47710>"
      ]
     },
     "metadata": {},
     "output_type": "display_data"
    }
   ],
   "source": [
    "# Broad plot\n",
    "test_range = range(100, 4000, 500)\n",
    "val_mean_error = get_cross_val_scores(test_range, train_X, y)\n",
    "plt.plot(test_range, val_mean_error)\n",
    "plt.show()"
   ]
  },
  {
   "cell_type": "code",
   "execution_count": 42,
   "metadata": {},
   "outputs": [
    {
     "data": {
      "image/png": "[encoded data removed]",
      "text/plain": [
       "<matplotlib.figure.Figure at 0x257c82d4438>"
      ]
     },
     "metadata": {},
     "output_type": "display_data"
    }
   ],
   "source": [
    "# Narrow plot\n",
    "test_range = range(1600, 1900, 50)\n",
    "val_mean_error = get_cross_val_scores(test_range, train_X, y)\n",
    "plt.plot(test_range, val_mean_error)\n",
    "plt.show()"
   ]
  },
  {
   "cell_type": "markdown",
   "metadata": {},
   "source": [
    "### Get best n"
   ]
  },
  {
   "cell_type": "code",
   "execution_count": 43,
   "metadata": {},
   "outputs": [
    {
     "name": "stdout",
     "output_type": "stream",
     "text": [
      "Index: 4, Value: 0.2622, n_estimator: 1800\n"
     ]
    }
   ],
   "source": [
    "idx_of_min_err = val_mean_error.index(min(val_mean_error))\n",
    "best_err = val_mean_error[idx_of_min_err]\n",
    "best_n = list(test_range)[idx_of_min_err]\n",
    "print('Index: {0}, Value: {1:0.4f}, n_estimator: {2}'.format(idx_of_min_err, best_err, best_n))"
   ]
  },
  {
   "cell_type": "markdown",
   "metadata": {},
   "source": [
    "# Train Full Data Set"
   ]
  },
  {
   "cell_type": "code",
   "execution_count": 264,
   "metadata": {},
   "outputs": [
    {
     "data": {
      "text/plain": [
       "XGBRegressor(base_score=0.5, booster='gbtree', colsample_bylevel=1,\n",
       "       colsample_bytree=1, gamma=0, learning_rate=0.01, max_delta_step=0,\n",
       "       max_depth=3, min_child_weight=1, missing=None, n_estimators=1600,\n",
       "       n_jobs=1, nthread=None, objective='reg:linear', random_state=0,\n",
       "       reg_alpha=0, reg_lambda=1, scale_pos_weight=1, seed=None,\n",
       "       silent=True, subsample=1)"
      ]
     },
     "execution_count": 264,
     "metadata": {},
     "output_type": "execute_result"
    }
   ],
   "source": [
    "# Train on full data set with optimal model cycle count\n",
    "model = XGBRegressor(n_estimators=1600, learning_rate=.01)\n",
    "model.fit(train_X, y)"
   ]
  },
  {
   "cell_type": "markdown",
   "metadata": {
    "collapsed": true
   },
   "source": [
    "# Predict on Test Set"
   ]
  },
  {
   "cell_type": "code",
   "execution_count": 265,
   "metadata": {
    "collapsed": true
   },
   "outputs": [],
   "source": [
    "final_predictions = model.predict(test_X)\n",
    "\n",
    "# Convert to boolean values\n",
    "final_bool = [1 if p > 0.5 else 0 for p in final_predictions]"
   ]
  },
  {
   "cell_type": "code",
   "execution_count": 266,
   "metadata": {
    "collapsed": true
   },
   "outputs": [],
   "source": [
    "# Export predictions for submission\n",
    "output = pd.DataFrame({'PassengerId': passenger_ids, 'Survived': final_bool})\n",
    "output.to_csv('submission.csv', index=False)"
   ]
  },
  {
   "cell_type": "markdown",
   "metadata": {},
   "source": [
    "# Partial Dependency Plots\n",
    "How each feature affects the model"
   ]
  },
  {
   "cell_type": "code",
   "execution_count": 338,
   "metadata": {},
   "outputs": [
    {
     "data": {
      "text/plain": [
       "GradientBoostingRegressor(alpha=0.9, criterion='friedman_mse', init=None,\n",
       "             learning_rate=0.1, loss='ls', max_depth=3, max_features=None,\n",
       "             max_leaf_nodes=None, min_impurity_decrease=0.0,\n",
       "             min_impurity_split=None, min_samples_leaf=1,\n",
       "             min_samples_split=2, min_weight_fraction_leaf=0.0,\n",
       "             n_estimators=100, presort='auto', random_state=None,\n",
       "             subsample=1.0, verbose=0, warm_start=False)"
      ]
     },
     "execution_count": 338,
     "metadata": {},
     "output_type": "execute_result"
    }
   ],
   "source": [
    "from sklearn.ensemble import GradientBoostingRegressor\n",
    "from sklearn.ensemble.partial_dependence import partial_dependence, plot_partial_dependence\n",
    "import matplotlib\n",
    "%matplotlib inline\n",
    "\n",
    "partial_dependence_model = GradientBoostingRegressor()\n",
    "partial_dependence_model.fit(titanic_X.values, y.values)"
   ]
  },
  {
   "cell_type": "markdown",
   "metadata": {},
   "source": [
    "### Age vs Survival Likelihood\n",
    "More likely to survive if younger"
   ]
  },
  {
   "cell_type": "code",
   "execution_count": 32,
   "metadata": {},
   "outputs": [
    {
     "data": {
      "image/png": "[encoded data removed]",
      "text/plain": [
       "<matplotlib.figure.Figure at 0x17e07d73ba8>"
      ]
     },
     "metadata": {},
     "output_type": "display_data"
    }
   ],
   "source": [
    "plotter = plot_partial_dependence(partial_dependence_model, \n",
    "                                  features=[0], # Column numbers of plots to show\n",
    "                                  X=titanic_X.values, \n",
    "                                  feature_names=list(titanic_X.columns),\n",
    "                                 grid_resolution=10)"
   ]
  },
  {
   "cell_type": "markdown",
   "metadata": {},
   "source": [
    "### Fare Price vs Surival Likelihood\n",
    "More likely to survive if payed more for fare"
   ]
  },
  {
   "cell_type": "code",
   "execution_count": 33,
   "metadata": {},
   "outputs": [
    {
     "data": {
      "image/png": "[encoded data removed]",
      "text/plain": [
       "<matplotlib.figure.Figure at 0x17e08e45be0>"
      ]
     },
     "metadata": {},
     "output_type": "display_data"
    }
   ],
   "source": [
    "plotter = plot_partial_dependence(partial_dependence_model, \n",
    "                                  features=[1], # Column numbers of plots to show\n",
    "                                  X=titanic_X.values, \n",
    "                                  feature_names=list(titanic_X.columns),\n",
    "                                 grid_resolution=10)"
   ]
  },
  {
   "cell_type": "markdown",
   "metadata": {},
   "source": [
    "### Parent Child Count vs Survival Likelihood\n",
    "More likely to survive with fewer parent/child count (probably fewer children)"
   ]
  },
  {
   "cell_type": "code",
   "execution_count": 34,
   "metadata": {},
   "outputs": [
    {
     "data": {
      "image/png": "[encoded data removed]",
      "text/plain": [
       "<matplotlib.figure.Figure at 0x17e08ee9ac8>"
      ]
     },
     "metadata": {},
     "output_type": "display_data"
    }
   ],
   "source": [
    "plotter = plot_partial_dependence(partial_dependence_model, \n",
    "                                  features=[2], # Column numbers of plots to show\n",
    "                                  X=titanic_X.values, \n",
    "                                  feature_names=list(titanic_X.columns),\n",
    "                                 grid_resolution=10)"
   ]
  },
  {
   "cell_type": "markdown",
   "metadata": {},
   "source": [
    "### Travel Class vs Survival Likelihood\n",
    "More likely to survive if 1st Class"
   ]
  },
  {
   "cell_type": "code",
   "execution_count": 132,
   "metadata": {},
   "outputs": [
    {
     "data": {
      "image/png": "[encoded data removed]",
      "text/plain": [
       "<matplotlib.figure.Figure at 0x17e09a86b38>"
      ]
     },
     "metadata": {},
     "output_type": "display_data"
    }
   ],
   "source": [
    "plotter = plot_partial_dependence(partial_dependence_model, \n",
    "                                  features=[3], # Column numbers of plots to show\n",
    "                                  X=titanic_X.values, \n",
    "                                  feature_names=list(titanic_X.columns),\n",
    "                                 grid_resolution=10)"
   ]
  },
  {
   "cell_type": "markdown",
   "metadata": {},
   "source": [
    "### Sibling Count vs Survival Likelihood\n",
    "Less siblings increased survival likelihood"
   ]
  },
  {
   "cell_type": "code",
   "execution_count": 133,
   "metadata": {
    "scrolled": true
   },
   "outputs": [
    {
     "data": {
      "image/png": "[encoded data removed]",
      "text/plain": [
       "<matplotlib.figure.Figure at 0x17e09b44c50>"
      ]
     },
     "metadata": {},
     "output_type": "display_data"
    }
   ],
   "source": [
    "plotter = plot_partial_dependence(partial_dependence_model, \n",
    "                                  features=[4], # Column numbers of plots to show\n",
    "                                  X=titanic_X.values, \n",
    "                                  feature_names=list(titanic_X.columns),\n",
    "                                 grid_resolution=10)"
   ]
  },
  {
   "cell_type": "code",
   "execution_count": null,
   "metadata": {
    "collapsed": true
   },
   "outputs": [],
   "source": []
  }
 ],
 "metadata": {
  "kernelspec": {
   "display_name": "Python 3",
   "language": "python",
   "name": "python3"
  },
  "language_info": {
   "codemirror_mode": {
    "name": "ipython",
    "version": 3
   },
   "file_extension": ".py",
   "mimetype": "text/x-python",
   "name": "python",
   "nbconvert_exporter": "python",
   "pygments_lexer": "ipython3",
   "version": "3.5.3"
  }
 },
 "nbformat": 4,
 "nbformat_minor": 2
}
